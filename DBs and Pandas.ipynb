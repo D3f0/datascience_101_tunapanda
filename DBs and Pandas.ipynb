{
 "cells": [
  {
   "cell_type": "code",
   "execution_count": 1,
   "metadata": {},
   "outputs": [],
   "source": [
    "from sqlalchemy import create_engine\n",
    "import pandas as pd"
   ]
  },
  {
   "cell_type": "markdown",
   "metadata": {},
   "source": [
    "#### Create engine passing the address"
   ]
  },
  {
   "cell_type": "code",
   "execution_count": 2,
   "metadata": {},
   "outputs": [
    {
     "data": {
      "text/plain": [
       "Engine(postgresql://celia@localhost:5432/mytestdb)"
      ]
     },
     "execution_count": 2,
     "metadata": {},
     "output_type": "execute_result"
    }
   ],
   "source": [
    "engine = create_engine('postgresql://celia@localhost:5432/mytestdb')\n",
    "engine"
   ]
  },
  {
   "cell_type": "code",
   "execution_count": 3,
   "metadata": {
    "collapsed": true
   },
   "outputs": [
    {
     "ename": "ValueError",
     "evalue": "Expected object or value",
     "output_type": "error",
     "traceback": [
      "\u001b[0;31m---------------------------------------------------------------------------\u001b[0m",
      "\u001b[0;31mValueError\u001b[0m                                Traceback (most recent call last)",
      "\u001b[0;32m<ipython-input-3-a2b525ed5c55>\u001b[0m in \u001b[0;36m<module>\u001b[0;34m()\u001b[0m\n\u001b[0;32m----> 1\u001b[0;31m \u001b[0mjson_df\u001b[0m  \u001b[0;34m=\u001b[0m \u001b[0mpd\u001b[0m\u001b[0;34m.\u001b[0m\u001b[0mread_json\u001b[0m\u001b[0;34m(\u001b[0m\u001b[0;34m'/home/celia/Downloads/MOCK_DATA.json'\u001b[0m\u001b[0;34m)\u001b[0m\u001b[0;34m\u001b[0m\u001b[0m\n\u001b[0m\u001b[1;32m      2\u001b[0m \u001b[0mjson_df\u001b[0m\u001b[0;34m\u001b[0m\u001b[0m\n",
      "\u001b[0;32m/usr/lib/python2.7/site-packages/pandas/io/json.pyc\u001b[0m in \u001b[0;36mread_json\u001b[0;34m(path_or_buf, orient, typ, dtype, convert_axes, convert_dates, keep_default_dates, numpy, precise_float, date_unit, encoding, lines)\u001b[0m\n\u001b[1;32m    232\u001b[0m         obj = FrameParser(json, orient, dtype, convert_axes, convert_dates,\n\u001b[1;32m    233\u001b[0m                           \u001b[0mkeep_default_dates\u001b[0m\u001b[0;34m,\u001b[0m \u001b[0mnumpy\u001b[0m\u001b[0;34m,\u001b[0m \u001b[0mprecise_float\u001b[0m\u001b[0;34m,\u001b[0m\u001b[0;34m\u001b[0m\u001b[0m\n\u001b[0;32m--> 234\u001b[0;31m                           date_unit).parse()\n\u001b[0m\u001b[1;32m    235\u001b[0m \u001b[0;34m\u001b[0m\u001b[0m\n\u001b[1;32m    236\u001b[0m     \u001b[0;32mif\u001b[0m \u001b[0mtyp\u001b[0m \u001b[0;34m==\u001b[0m \u001b[0;34m'series'\u001b[0m \u001b[0;32mor\u001b[0m \u001b[0mobj\u001b[0m \u001b[0;32mis\u001b[0m \u001b[0mNone\u001b[0m\u001b[0;34m:\u001b[0m\u001b[0;34m\u001b[0m\u001b[0m\n",
      "\u001b[0;32m/usr/lib/python2.7/site-packages/pandas/io/json.pyc\u001b[0m in \u001b[0;36mparse\u001b[0;34m(self)\u001b[0m\n\u001b[1;32m    300\u001b[0m \u001b[0;34m\u001b[0m\u001b[0m\n\u001b[1;32m    301\u001b[0m         \u001b[0;32melse\u001b[0m\u001b[0;34m:\u001b[0m\u001b[0;34m\u001b[0m\u001b[0m\n\u001b[0;32m--> 302\u001b[0;31m             \u001b[0mself\u001b[0m\u001b[0;34m.\u001b[0m\u001b[0m_parse_no_numpy\u001b[0m\u001b[0;34m(\u001b[0m\u001b[0;34m)\u001b[0m\u001b[0;34m\u001b[0m\u001b[0m\n\u001b[0m\u001b[1;32m    303\u001b[0m \u001b[0;34m\u001b[0m\u001b[0m\n\u001b[1;32m    304\u001b[0m         \u001b[0;32mif\u001b[0m \u001b[0mself\u001b[0m\u001b[0;34m.\u001b[0m\u001b[0mobj\u001b[0m \u001b[0;32mis\u001b[0m \u001b[0mNone\u001b[0m\u001b[0;34m:\u001b[0m\u001b[0;34m\u001b[0m\u001b[0m\n",
      "\u001b[0;32m/usr/lib/python2.7/site-packages/pandas/io/json.pyc\u001b[0m in \u001b[0;36m_parse_no_numpy\u001b[0;34m(self)\u001b[0m\n\u001b[1;32m    517\u001b[0m         \u001b[0;32mif\u001b[0m \u001b[0morient\u001b[0m \u001b[0;34m==\u001b[0m \u001b[0;34m\"columns\"\u001b[0m\u001b[0;34m:\u001b[0m\u001b[0;34m\u001b[0m\u001b[0m\n\u001b[1;32m    518\u001b[0m             self.obj = DataFrame(\n\u001b[0;32m--> 519\u001b[0;31m                 loads(json, precise_float=self.precise_float), dtype=None)\n\u001b[0m\u001b[1;32m    520\u001b[0m         \u001b[0;32melif\u001b[0m \u001b[0morient\u001b[0m \u001b[0;34m==\u001b[0m \u001b[0;34m\"split\"\u001b[0m\u001b[0;34m:\u001b[0m\u001b[0;34m\u001b[0m\u001b[0m\n\u001b[1;32m    521\u001b[0m             decoded = dict((str(k), v)\n",
      "\u001b[0;31mValueError\u001b[0m: Expected object or value"
     ]
    }
   ],
   "source": [
    "json_df  = pd.read_json('data/MOCK_DATA.json')\n",
    "json_df"
   ]
  },
  {
   "cell_type": "code",
   "execution_count": 29,
   "metadata": {},
   "outputs": [],
   "source": [
    "json_df.to_sql('Customer', engine, index=None)"
   ]
  },
  {
   "cell_type": "markdown",
   "metadata": {},
   "source": [
    "#### Make a query"
   ]
  },
  {
   "cell_type": "code",
   "execution_count": 30,
   "metadata": {},
   "outputs": [
    {
     "data": {
      "text/html": [
       "<div>\n",
       "<table border=\"1\" class=\"dataframe\">\n",
       "  <thead>\n",
       "    <tr style=\"text-align: right;\">\n",
       "      <th></th>\n",
       "      <th>email</th>\n",
       "      <th>bday</th>\n",
       "      <th>first_name</th>\n",
       "    </tr>\n",
       "  </thead>\n",
       "  <tbody>\n",
       "    <tr>\n",
       "      <th>0</th>\n",
       "      <td>gdiaz0@gizmodo.com</td>\n",
       "      <td>7/13/2016</td>\n",
       "      <td>Gloria</td>\n",
       "    </tr>\n",
       "    <tr>\n",
       "      <th>1</th>\n",
       "      <td>pgarrett1@diigo.com</td>\n",
       "      <td>10/27/1993</td>\n",
       "      <td>Peter</td>\n",
       "    </tr>\n",
       "    <tr>\n",
       "      <th>2</th>\n",
       "      <td>bbradley2@themeforest.net</td>\n",
       "      <td>5/17/2004</td>\n",
       "      <td>Betty</td>\n",
       "    </tr>\n",
       "    <tr>\n",
       "      <th>3</th>\n",
       "      <td>rmorales3@shinystat.com</td>\n",
       "      <td>7/6/2013</td>\n",
       "      <td>Russell</td>\n",
       "    </tr>\n",
       "    <tr>\n",
       "      <th>4</th>\n",
       "      <td>rsims4@sina.com.cn</td>\n",
       "      <td>11/9/1995</td>\n",
       "      <td>Randy</td>\n",
       "    </tr>\n",
       "    <tr>\n",
       "      <th>5</th>\n",
       "      <td>jcruz5@wikia.com</td>\n",
       "      <td>10/25/2004</td>\n",
       "      <td>Jerry</td>\n",
       "    </tr>\n",
       "    <tr>\n",
       "      <th>6</th>\n",
       "      <td>mmedina6@seattletimes.com</td>\n",
       "      <td>3/23/2009</td>\n",
       "      <td>Michelle</td>\n",
       "    </tr>\n",
       "    <tr>\n",
       "      <th>7</th>\n",
       "      <td>gellis7@hhs.gov</td>\n",
       "      <td>4/5/2002</td>\n",
       "      <td>Gregory</td>\n",
       "    </tr>\n",
       "    <tr>\n",
       "      <th>8</th>\n",
       "      <td>blawson8@blog.com</td>\n",
       "      <td>5/29/2014</td>\n",
       "      <td>Brenda</td>\n",
       "    </tr>\n",
       "    <tr>\n",
       "      <th>9</th>\n",
       "      <td>lkelly9@pcworld.com</td>\n",
       "      <td>10/30/2006</td>\n",
       "      <td>Lawrence</td>\n",
       "    </tr>\n",
       "    <tr>\n",
       "      <th>10</th>\n",
       "      <td>jalvareza@fc2.com</td>\n",
       "      <td>1/30/2010</td>\n",
       "      <td>Jason</td>\n",
       "    </tr>\n",
       "    <tr>\n",
       "      <th>11</th>\n",
       "      <td>hmarshallb@nps.gov</td>\n",
       "      <td>7/16/2003</td>\n",
       "      <td>Harold</td>\n",
       "    </tr>\n",
       "    <tr>\n",
       "      <th>12</th>\n",
       "      <td>scampbellc@theguardian.com</td>\n",
       "      <td>10/31/1990</td>\n",
       "      <td>Steven</td>\n",
       "    </tr>\n",
       "    <tr>\n",
       "      <th>13</th>\n",
       "      <td>llongd@ask.com</td>\n",
       "      <td>5/16/2013</td>\n",
       "      <td>Lois</td>\n",
       "    </tr>\n",
       "    <tr>\n",
       "      <th>14</th>\n",
       "      <td>dhowelle@mit.edu</td>\n",
       "      <td>12/8/1997</td>\n",
       "      <td>David</td>\n",
       "    </tr>\n",
       "    <tr>\n",
       "      <th>15</th>\n",
       "      <td>jwhitef@netlog.com</td>\n",
       "      <td>7/11/2013</td>\n",
       "      <td>Julie</td>\n",
       "    </tr>\n",
       "    <tr>\n",
       "      <th>16</th>\n",
       "      <td>eknightg@auda.org.au</td>\n",
       "      <td>8/30/2010</td>\n",
       "      <td>Eric</td>\n",
       "    </tr>\n",
       "    <tr>\n",
       "      <th>17</th>\n",
       "      <td>woliverh@imageshack.us</td>\n",
       "      <td>11/12/2004</td>\n",
       "      <td>Wayne</td>\n",
       "    </tr>\n",
       "    <tr>\n",
       "      <th>18</th>\n",
       "      <td>cperryi@wikia.com</td>\n",
       "      <td>9/16/2006</td>\n",
       "      <td>Cheryl</td>\n",
       "    </tr>\n",
       "    <tr>\n",
       "      <th>19</th>\n",
       "      <td>ssanchezj@jugem.jp</td>\n",
       "      <td>5/21/1991</td>\n",
       "      <td>Sean</td>\n",
       "    </tr>\n",
       "    <tr>\n",
       "      <th>20</th>\n",
       "      <td>dwellsk@nytimes.com</td>\n",
       "      <td>10/2/2008</td>\n",
       "      <td>Donald</td>\n",
       "    </tr>\n",
       "    <tr>\n",
       "      <th>21</th>\n",
       "      <td>jhudsonl@github.com</td>\n",
       "      <td>3/21/2013</td>\n",
       "      <td>Justin</td>\n",
       "    </tr>\n",
       "    <tr>\n",
       "      <th>22</th>\n",
       "      <td>krobinsonm@feedburner.com</td>\n",
       "      <td>11/18/2007</td>\n",
       "      <td>Keith</td>\n",
       "    </tr>\n",
       "    <tr>\n",
       "      <th>23</th>\n",
       "      <td>gwilliamsonn@liveinternet.ru</td>\n",
       "      <td>5/28/1994</td>\n",
       "      <td>Gloria</td>\n",
       "    </tr>\n",
       "    <tr>\n",
       "      <th>24</th>\n",
       "      <td>jpierceo@forbes.com</td>\n",
       "      <td>7/26/1995</td>\n",
       "      <td>Jimmy</td>\n",
       "    </tr>\n",
       "    <tr>\n",
       "      <th>25</th>\n",
       "      <td>drosep@omniture.com</td>\n",
       "      <td>9/5/2010</td>\n",
       "      <td>Daniel</td>\n",
       "    </tr>\n",
       "    <tr>\n",
       "      <th>26</th>\n",
       "      <td>ajenkinsq@hc360.com</td>\n",
       "      <td>1/17/1993</td>\n",
       "      <td>Adam</td>\n",
       "    </tr>\n",
       "    <tr>\n",
       "      <th>27</th>\n",
       "      <td>jgardnerr@theguardian.com</td>\n",
       "      <td>9/4/1994</td>\n",
       "      <td>Jacqueline</td>\n",
       "    </tr>\n",
       "    <tr>\n",
       "      <th>28</th>\n",
       "      <td>amorenos@nhs.uk</td>\n",
       "      <td>8/24/1990</td>\n",
       "      <td>Arthur</td>\n",
       "    </tr>\n",
       "    <tr>\n",
       "      <th>29</th>\n",
       "      <td>flewist@facebook.com</td>\n",
       "      <td>6/24/2009</td>\n",
       "      <td>Frank</td>\n",
       "    </tr>\n",
       "    <tr>\n",
       "      <th>...</th>\n",
       "      <td>...</td>\n",
       "      <td>...</td>\n",
       "      <td>...</td>\n",
       "    </tr>\n",
       "    <tr>\n",
       "      <th>970</th>\n",
       "      <td>acrawfordqy@acquirethisname.com</td>\n",
       "      <td>9/10/2013</td>\n",
       "      <td>Amanda</td>\n",
       "    </tr>\n",
       "    <tr>\n",
       "      <th>971</th>\n",
       "      <td>rwilliamsqz@zdnet.com</td>\n",
       "      <td>3/17/2002</td>\n",
       "      <td>Ruth</td>\n",
       "    </tr>\n",
       "    <tr>\n",
       "      <th>972</th>\n",
       "      <td>cwilliamsr0@devhub.com</td>\n",
       "      <td>4/15/2001</td>\n",
       "      <td>Christine</td>\n",
       "    </tr>\n",
       "    <tr>\n",
       "      <th>973</th>\n",
       "      <td>jelliottr1@businessinsider.com</td>\n",
       "      <td>3/29/2014</td>\n",
       "      <td>Jessica</td>\n",
       "    </tr>\n",
       "    <tr>\n",
       "      <th>974</th>\n",
       "      <td>aarnoldr2@lycos.com</td>\n",
       "      <td>1/31/2012</td>\n",
       "      <td>Alan</td>\n",
       "    </tr>\n",
       "    <tr>\n",
       "      <th>975</th>\n",
       "      <td>fcarterr3@technorati.com</td>\n",
       "      <td>9/5/2007</td>\n",
       "      <td>Frances</td>\n",
       "    </tr>\n",
       "    <tr>\n",
       "      <th>976</th>\n",
       "      <td>jhayesr4@opensource.org</td>\n",
       "      <td>3/30/2007</td>\n",
       "      <td>Jerry</td>\n",
       "    </tr>\n",
       "    <tr>\n",
       "      <th>977</th>\n",
       "      <td>rpricer5@cpanel.net</td>\n",
       "      <td>2/9/2014</td>\n",
       "      <td>Rose</td>\n",
       "    </tr>\n",
       "    <tr>\n",
       "      <th>978</th>\n",
       "      <td>amorrisonr6@nba.com</td>\n",
       "      <td>2/14/2015</td>\n",
       "      <td>Amy</td>\n",
       "    </tr>\n",
       "    <tr>\n",
       "      <th>979</th>\n",
       "      <td>erogersr7@csmonitor.com</td>\n",
       "      <td>4/24/2011</td>\n",
       "      <td>Earl</td>\n",
       "    </tr>\n",
       "    <tr>\n",
       "      <th>980</th>\n",
       "      <td>tgarciar8@oracle.com</td>\n",
       "      <td>2/26/1991</td>\n",
       "      <td>Tina</td>\n",
       "    </tr>\n",
       "    <tr>\n",
       "      <th>981</th>\n",
       "      <td>hweaverr9@newyorker.com</td>\n",
       "      <td>7/11/2004</td>\n",
       "      <td>Howard</td>\n",
       "    </tr>\n",
       "    <tr>\n",
       "      <th>982</th>\n",
       "      <td>sdavisra@ted.com</td>\n",
       "      <td>10/7/2012</td>\n",
       "      <td>Shirley</td>\n",
       "    </tr>\n",
       "    <tr>\n",
       "      <th>983</th>\n",
       "      <td>lroserb@mayoclinic.com</td>\n",
       "      <td>11/3/1993</td>\n",
       "      <td>Lawrence</td>\n",
       "    </tr>\n",
       "    <tr>\n",
       "      <th>984</th>\n",
       "      <td>mbryantrc@geocities.com</td>\n",
       "      <td>12/31/2005</td>\n",
       "      <td>Melissa</td>\n",
       "    </tr>\n",
       "    <tr>\n",
       "      <th>985</th>\n",
       "      <td>wgomezrd@nymag.com</td>\n",
       "      <td>5/23/2009</td>\n",
       "      <td>Walter</td>\n",
       "    </tr>\n",
       "    <tr>\n",
       "      <th>986</th>\n",
       "      <td>kgibsonre@usa.gov</td>\n",
       "      <td>1/25/2015</td>\n",
       "      <td>Karen</td>\n",
       "    </tr>\n",
       "    <tr>\n",
       "      <th>987</th>\n",
       "      <td>kpricerf@loc.gov</td>\n",
       "      <td>2/25/2000</td>\n",
       "      <td>Karen</td>\n",
       "    </tr>\n",
       "    <tr>\n",
       "      <th>988</th>\n",
       "      <td>psullivanrg@cbc.ca</td>\n",
       "      <td>5/26/2013</td>\n",
       "      <td>Paula</td>\n",
       "    </tr>\n",
       "    <tr>\n",
       "      <th>989</th>\n",
       "      <td>jmorrisonrh@123-reg.co.uk</td>\n",
       "      <td>7/9/2012</td>\n",
       "      <td>Judy</td>\n",
       "    </tr>\n",
       "    <tr>\n",
       "      <th>990</th>\n",
       "      <td>jolsonri@nbcnews.com</td>\n",
       "      <td>8/29/2000</td>\n",
       "      <td>Jane</td>\n",
       "    </tr>\n",
       "    <tr>\n",
       "      <th>991</th>\n",
       "      <td>dsimsrj@ox.ac.uk</td>\n",
       "      <td>2/6/2012</td>\n",
       "      <td>Doris</td>\n",
       "    </tr>\n",
       "    <tr>\n",
       "      <th>992</th>\n",
       "      <td>aelliottrk@umich.edu</td>\n",
       "      <td>3/9/1998</td>\n",
       "      <td>Amanda</td>\n",
       "    </tr>\n",
       "    <tr>\n",
       "      <th>993</th>\n",
       "      <td>bmendozarl@cdc.gov</td>\n",
       "      <td>2/13/1999</td>\n",
       "      <td>Brenda</td>\n",
       "    </tr>\n",
       "    <tr>\n",
       "      <th>994</th>\n",
       "      <td>isimsrm@fotki.com</td>\n",
       "      <td>8/8/2016</td>\n",
       "      <td>Irene</td>\n",
       "    </tr>\n",
       "    <tr>\n",
       "      <th>995</th>\n",
       "      <td>jtaylorrn@usgs.gov</td>\n",
       "      <td>6/20/2000</td>\n",
       "      <td>Justin</td>\n",
       "    </tr>\n",
       "    <tr>\n",
       "      <th>996</th>\n",
       "      <td>phudsonro@sakura.ne.jp</td>\n",
       "      <td>6/7/2000</td>\n",
       "      <td>Paula</td>\n",
       "    </tr>\n",
       "    <tr>\n",
       "      <th>997</th>\n",
       "      <td>scampbellrp@wix.com</td>\n",
       "      <td>11/22/1997</td>\n",
       "      <td>Sandra</td>\n",
       "    </tr>\n",
       "    <tr>\n",
       "      <th>998</th>\n",
       "      <td>vpaynerq@fda.gov</td>\n",
       "      <td>6/22/1996</td>\n",
       "      <td>Victor</td>\n",
       "    </tr>\n",
       "    <tr>\n",
       "      <th>999</th>\n",
       "      <td>rwarrenrr@mlb.com</td>\n",
       "      <td>11/9/1995</td>\n",
       "      <td>Richard</td>\n",
       "    </tr>\n",
       "  </tbody>\n",
       "</table>\n",
       "<p>1000 rows × 3 columns</p>\n",
       "</div>"
      ],
      "text/plain": [
       "                               email        bday  first_name\n",
       "0                 gdiaz0@gizmodo.com   7/13/2016      Gloria\n",
       "1                pgarrett1@diigo.com  10/27/1993       Peter\n",
       "2          bbradley2@themeforest.net   5/17/2004       Betty\n",
       "3            rmorales3@shinystat.com    7/6/2013     Russell\n",
       "4                 rsims4@sina.com.cn   11/9/1995       Randy\n",
       "5                   jcruz5@wikia.com  10/25/2004       Jerry\n",
       "6          mmedina6@seattletimes.com   3/23/2009    Michelle\n",
       "7                    gellis7@hhs.gov    4/5/2002     Gregory\n",
       "8                  blawson8@blog.com   5/29/2014      Brenda\n",
       "9                lkelly9@pcworld.com  10/30/2006    Lawrence\n",
       "10                 jalvareza@fc2.com   1/30/2010       Jason\n",
       "11                hmarshallb@nps.gov   7/16/2003      Harold\n",
       "12        scampbellc@theguardian.com  10/31/1990      Steven\n",
       "13                    llongd@ask.com   5/16/2013        Lois\n",
       "14                  dhowelle@mit.edu   12/8/1997       David\n",
       "15                jwhitef@netlog.com   7/11/2013       Julie\n",
       "16              eknightg@auda.org.au   8/30/2010        Eric\n",
       "17            woliverh@imageshack.us  11/12/2004       Wayne\n",
       "18                 cperryi@wikia.com   9/16/2006      Cheryl\n",
       "19                ssanchezj@jugem.jp   5/21/1991        Sean\n",
       "20               dwellsk@nytimes.com   10/2/2008      Donald\n",
       "21               jhudsonl@github.com   3/21/2013      Justin\n",
       "22         krobinsonm@feedburner.com  11/18/2007       Keith\n",
       "23      gwilliamsonn@liveinternet.ru   5/28/1994      Gloria\n",
       "24               jpierceo@forbes.com   7/26/1995       Jimmy\n",
       "25               drosep@omniture.com    9/5/2010      Daniel\n",
       "26               ajenkinsq@hc360.com   1/17/1993        Adam\n",
       "27         jgardnerr@theguardian.com    9/4/1994  Jacqueline\n",
       "28                   amorenos@nhs.uk   8/24/1990      Arthur\n",
       "29              flewist@facebook.com   6/24/2009       Frank\n",
       "..                               ...         ...         ...\n",
       "970  acrawfordqy@acquirethisname.com   9/10/2013      Amanda\n",
       "971            rwilliamsqz@zdnet.com   3/17/2002        Ruth\n",
       "972           cwilliamsr0@devhub.com   4/15/2001   Christine\n",
       "973   jelliottr1@businessinsider.com   3/29/2014     Jessica\n",
       "974              aarnoldr2@lycos.com   1/31/2012        Alan\n",
       "975         fcarterr3@technorati.com    9/5/2007     Frances\n",
       "976          jhayesr4@opensource.org   3/30/2007       Jerry\n",
       "977              rpricer5@cpanel.net    2/9/2014        Rose\n",
       "978              amorrisonr6@nba.com   2/14/2015         Amy\n",
       "979          erogersr7@csmonitor.com   4/24/2011        Earl\n",
       "980             tgarciar8@oracle.com   2/26/1991        Tina\n",
       "981          hweaverr9@newyorker.com   7/11/2004      Howard\n",
       "982                 sdavisra@ted.com   10/7/2012     Shirley\n",
       "983           lroserb@mayoclinic.com   11/3/1993    Lawrence\n",
       "984          mbryantrc@geocities.com  12/31/2005     Melissa\n",
       "985               wgomezrd@nymag.com   5/23/2009      Walter\n",
       "986                kgibsonre@usa.gov   1/25/2015       Karen\n",
       "987                 kpricerf@loc.gov   2/25/2000       Karen\n",
       "988               psullivanrg@cbc.ca   5/26/2013       Paula\n",
       "989        jmorrisonrh@123-reg.co.uk    7/9/2012        Judy\n",
       "990             jolsonri@nbcnews.com   8/29/2000        Jane\n",
       "991                 dsimsrj@ox.ac.uk    2/6/2012       Doris\n",
       "992             aelliottrk@umich.edu    3/9/1998      Amanda\n",
       "993               bmendozarl@cdc.gov   2/13/1999      Brenda\n",
       "994                isimsrm@fotki.com    8/8/2016       Irene\n",
       "995               jtaylorrn@usgs.gov   6/20/2000      Justin\n",
       "996           phudsonro@sakura.ne.jp    6/7/2000       Paula\n",
       "997              scampbellrp@wix.com  11/22/1997      Sandra\n",
       "998                 vpaynerq@fda.gov   6/22/1996      Victor\n",
       "999                rwarrenrr@mlb.com   11/9/1995     Richard\n",
       "\n",
       "[1000 rows x 3 columns]"
      ]
     },
     "execution_count": 30,
     "metadata": {},
     "output_type": "execute_result"
    }
   ],
   "source": [
    "df_customer = pd.read_sql_query('select email, bday, first_name from \"Customer\"',con=engine)\n",
    "df_customer"
   ]
  },
  {
   "cell_type": "code",
   "execution_count": 31,
   "metadata": {},
   "outputs": [
    {
     "name": "stdout",
     "output_type": "stream",
     "text": [
      "<class 'pandas.core.frame.DataFrame'>\n",
      "Int64Index: 1000 entries, 0 to 999\n",
      "Data columns (total 3 columns):\n",
      "email         1000 non-null object\n",
      "bday          1000 non-null object\n",
      "first_name    1000 non-null object\n",
      "dtypes: object(3)\n",
      "memory usage: 31.2+ KB\n"
     ]
    }
   ],
   "source": [
    "df_customer.info()"
   ]
  },
  {
   "cell_type": "code",
   "execution_count": 33,
   "metadata": {},
   "outputs": [
    {
     "data": {
      "text/html": [
       "<div>\n",
       "<table border=\"1\" class=\"dataframe\">\n",
       "  <thead>\n",
       "    <tr style=\"text-align: right;\">\n",
       "      <th></th>\n",
       "      <th>email</th>\n",
       "      <th>bday</th>\n",
       "      <th>first_name</th>\n",
       "    </tr>\n",
       "  </thead>\n",
       "  <tbody>\n",
       "    <tr>\n",
       "      <th>count</th>\n",
       "      <td>1000</td>\n",
       "      <td>1000</td>\n",
       "      <td>1000</td>\n",
       "    </tr>\n",
       "    <tr>\n",
       "      <th>unique</th>\n",
       "      <td>1000</td>\n",
       "      <td>953</td>\n",
       "      <td>199</td>\n",
       "    </tr>\n",
       "    <tr>\n",
       "      <th>top</th>\n",
       "      <td>bbellbc@gmpg.org</td>\n",
       "      <td>8/2/2008</td>\n",
       "      <td>James</td>\n",
       "    </tr>\n",
       "    <tr>\n",
       "      <th>freq</th>\n",
       "      <td>1</td>\n",
       "      <td>2</td>\n",
       "      <td>12</td>\n",
       "    </tr>\n",
       "  </tbody>\n",
       "</table>\n",
       "</div>"
      ],
      "text/plain": [
       "                   email      bday first_name\n",
       "count               1000      1000       1000\n",
       "unique              1000       953        199\n",
       "top     bbellbc@gmpg.org  8/2/2008      James\n",
       "freq                   1         2         12"
      ]
     },
     "execution_count": 33,
     "metadata": {},
     "output_type": "execute_result"
    }
   ],
   "source": [
    "df_customer.describe()"
   ]
  },
  {
   "cell_type": "markdown",
   "metadata": {},
   "source": [
    "#### Adding new element to a Table"
   ]
  },
  {
   "cell_type": "code",
   "execution_count": 10,
   "metadata": {},
   "outputs": [
    {
     "data": {
      "text/plain": [
       "Index([u'bday', u'email', u'first_name', u'gender', u'id', u'last_name'], dtype='object')"
      ]
     },
     "execution_count": 10,
     "metadata": {},
     "output_type": "execute_result"
    }
   ],
   "source": [
    "json_df.columns"
   ]
  },
  {
   "cell_type": "code",
   "execution_count": 34,
   "metadata": {},
   "outputs": [
    {
     "data": {
      "text/html": [
       "<div>\n",
       "<table border=\"1\" class=\"dataframe\">\n",
       "  <thead>\n",
       "    <tr style=\"text-align: right;\">\n",
       "      <th></th>\n",
       "      <th>bday</th>\n",
       "      <th>email</th>\n",
       "      <th>first_name</th>\n",
       "      <th>gender</th>\n",
       "      <th>id</th>\n",
       "      <th>last_name</th>\n",
       "    </tr>\n",
       "  </thead>\n",
       "  <tbody>\n",
       "    <tr>\n",
       "      <th>0</th>\n",
       "      <td>1990-03-19</td>\n",
       "      <td>cintas.celia@gmail.com</td>\n",
       "      <td>celia</td>\n",
       "      <td>Female</td>\n",
       "      <td>10000</td>\n",
       "      <td>cintas</td>\n",
       "    </tr>\n",
       "  </tbody>\n",
       "</table>\n",
       "</div>"
      ],
      "text/plain": [
       "        bday                   email first_name  gender     id last_name\n",
       "0 1990-03-19  cintas.celia@gmail.com      celia  Female  10000    cintas"
      ]
     },
     "execution_count": 34,
     "metadata": {},
     "output_type": "execute_result"
    }
   ],
   "source": [
    "new_df = pd.DataFrame([[pd.datetime(1990, 3, 19),'cintas.celia@gmail.com', 'celia', 'Female', 10000, 'cintas']], columns=json_df.columns)\n",
    "new_df"
   ]
  },
  {
   "cell_type": "code",
   "execution_count": 35,
   "metadata": {},
   "outputs": [],
   "source": [
    "new_df.to_sql('Customer', engine, if_exists='append', index=None)"
   ]
  },
  {
   "cell_type": "code",
   "execution_count": 36,
   "metadata": {},
   "outputs": [
    {
     "data": {
      "text/html": [
       "<div>\n",
       "<table border=\"1\" class=\"dataframe\">\n",
       "  <thead>\n",
       "    <tr style=\"text-align: right;\">\n",
       "      <th></th>\n",
       "      <th>bday</th>\n",
       "      <th>email</th>\n",
       "      <th>first_name</th>\n",
       "      <th>gender</th>\n",
       "      <th>id</th>\n",
       "      <th>last_name</th>\n",
       "    </tr>\n",
       "  </thead>\n",
       "  <tbody>\n",
       "    <tr>\n",
       "      <th>0</th>\n",
       "      <td>1990-03-19 00:00:00</td>\n",
       "      <td>cintas.celia@gmail.com</td>\n",
       "      <td>celia</td>\n",
       "      <td>Female</td>\n",
       "      <td>10000</td>\n",
       "      <td>cintas</td>\n",
       "    </tr>\n",
       "  </tbody>\n",
       "</table>\n",
       "</div>"
      ],
      "text/plain": [
       "                  bday                   email first_name  gender     id  \\\n",
       "0  1990-03-19 00:00:00  cintas.celia@gmail.com      celia  Female  10000   \n",
       "\n",
       "  last_name  \n",
       "0    cintas  "
      ]
     },
     "execution_count": 36,
     "metadata": {},
     "output_type": "execute_result"
    }
   ],
   "source": [
    "df_customer = pd.read_sql_query('select * from \"Customer\" WHERE id = 10000;', con=engine)\n",
    "df_customer"
   ]
  },
  {
   "cell_type": "markdown",
   "metadata": {},
   "source": [
    "#### Adding new Table from pandas"
   ]
  },
  {
   "cell_type": "code",
   "execution_count": 37,
   "metadata": {},
   "outputs": [
    {
     "data": {
      "text/html": [
       "<div>\n",
       "<table border=\"1\" class=\"dataframe\">\n",
       "  <thead>\n",
       "    <tr style=\"text-align: right;\">\n",
       "      <th></th>\n",
       "      <th>WineCode</th>\n",
       "      <th>Type</th>\n",
       "      <th>Vintage</th>\n",
       "    </tr>\n",
       "  </thead>\n",
       "  <tbody>\n",
       "  </tbody>\n",
       "</table>\n",
       "</div>"
      ],
      "text/plain": [
       "Empty DataFrame\n",
       "Columns: [WineCode, Type, Vintage]\n",
       "Index: []"
      ]
     },
     "execution_count": 37,
     "metadata": {},
     "output_type": "execute_result"
    }
   ],
   "source": [
    "new_table = pd.DataFrame([], columns=['WineCode', 'Type', 'Vintage'])\n",
    "new_table"
   ]
  },
  {
   "cell_type": "code",
   "execution_count": 38,
   "metadata": {},
   "outputs": [],
   "source": [
    "new_table.to_sql('Wine', engine, index=None)"
   ]
  },
  {
   "cell_type": "markdown",
   "metadata": {},
   "source": [
    "#### Doing the same using SQLalchemy"
   ]
  },
  {
   "cell_type": "code",
   "execution_count": 16,
   "metadata": {
    "collapsed": true
   },
   "outputs": [],
   "source": [
    "from sqlalchemy import MetaData, types\n",
    "from sqlalchemy import Table, Column"
   ]
  },
  {
   "cell_type": "code",
   "execution_count": 39,
   "metadata": {
    "collapsed": true
   },
   "outputs": [],
   "source": [
    "metadata = MetaData()"
   ]
  },
  {
   "cell_type": "code",
   "execution_count": 40,
   "metadata": {},
   "outputs": [],
   "source": [
    "time = Table('Time', metadata,\n",
    "    Column('TimeCode', types.Integer, primary_key=True),\n",
    "    Column('Date', types.DateTime, nullable=False),\n",
    " )"
   ]
  },
  {
   "cell_type": "code",
   "execution_count": 41,
   "metadata": {
    "collapsed": true
   },
   "outputs": [],
   "source": [
    "metadata.create_all(engine)"
   ]
  },
  {
   "cell_type": "markdown",
   "metadata": {},
   "source": [
    "### Adding new elements"
   ]
  },
  {
   "cell_type": "code",
   "execution_count": 42,
   "metadata": {
    "collapsed": true
   },
   "outputs": [],
   "source": [
    "data = [[1, 'White', 2000],\n",
    "        [2, 'red', 2015],\n",
    "        [3, 'rose', 2014]]"
   ]
  },
  {
   "cell_type": "code",
   "execution_count": 43,
   "metadata": {},
   "outputs": [],
   "source": [
    "new_df = pd.DataFrame(data, columns=new_table.columns)"
   ]
  },
  {
   "cell_type": "code",
   "execution_count": 44,
   "metadata": {
    "collapsed": true
   },
   "outputs": [],
   "source": [
    "new_df.to_sql('Wine', engine, if_exists='append', index=None)"
   ]
  },
  {
   "cell_type": "code",
   "execution_count": 45,
   "metadata": {},
   "outputs": [
    {
     "data": {
      "text/html": [
       "<div>\n",
       "<table border=\"1\" class=\"dataframe\">\n",
       "  <thead>\n",
       "    <tr style=\"text-align: right;\">\n",
       "      <th></th>\n",
       "      <th>WineCode</th>\n",
       "      <th>Type</th>\n",
       "      <th>Vintage</th>\n",
       "    </tr>\n",
       "  </thead>\n",
       "  <tbody>\n",
       "    <tr>\n",
       "      <th>0</th>\n",
       "      <td>1</td>\n",
       "      <td>White</td>\n",
       "      <td>2000</td>\n",
       "    </tr>\n",
       "    <tr>\n",
       "      <th>1</th>\n",
       "      <td>2</td>\n",
       "      <td>red</td>\n",
       "      <td>2015</td>\n",
       "    </tr>\n",
       "    <tr>\n",
       "      <th>2</th>\n",
       "      <td>3</td>\n",
       "      <td>rose</td>\n",
       "      <td>2014</td>\n",
       "    </tr>\n",
       "  </tbody>\n",
       "</table>\n",
       "</div>"
      ],
      "text/plain": [
       "  WineCode   Type Vintage\n",
       "0        1  White    2000\n",
       "1        2    red    2015\n",
       "2        3   rose    2014"
      ]
     },
     "execution_count": 45,
     "metadata": {},
     "output_type": "execute_result"
    }
   ],
   "source": [
    "df_wine = pd.read_sql_query('select * from \"Wine\"',con=engine)\n",
    "df_wine"
   ]
  },
  {
   "cell_type": "code",
   "execution_count": 46,
   "metadata": {
    "collapsed": true
   },
   "outputs": [],
   "source": [
    "data = [[1, 'White', pd.datetime(2000, 10, 10)],\n",
    "        [2, 'red', pd.datetime(2010, 9, 9)],\n",
    "        [3, 'rose', pd.datetime(2011, 9, 9)]]"
   ]
  },
  {
   "cell_type": "code",
   "execution_count": 47,
   "metadata": {},
   "outputs": [
    {
     "data": {
      "text/plain": [
       "0   2000-10-10\n",
       "1   2010-09-09\n",
       "2   2011-09-09\n",
       "Name: Vintage, dtype: datetime64[ns]"
      ]
     },
     "execution_count": 47,
     "metadata": {},
     "output_type": "execute_result"
    }
   ],
   "source": [
    "new_df = pd.DataFrame(data, columns=df_wine.columns)\n",
    "new_df['Vintage']"
   ]
  },
  {
   "cell_type": "code",
   "execution_count": 48,
   "metadata": {
    "collapsed": true
   },
   "outputs": [],
   "source": [
    "new_df.to_json('/tmp/lero.json', date_unit='ns')"
   ]
  },
  {
   "cell_type": "code",
   "execution_count": 49,
   "metadata": {},
   "outputs": [
    {
     "data": {
      "text/html": [
       "<div>\n",
       "<table border=\"1\" class=\"dataframe\">\n",
       "  <thead>\n",
       "    <tr style=\"text-align: right;\">\n",
       "      <th></th>\n",
       "      <th>Type</th>\n",
       "      <th>Vintage</th>\n",
       "      <th>WineCode</th>\n",
       "    </tr>\n",
       "  </thead>\n",
       "  <tbody>\n",
       "    <tr>\n",
       "      <th>0</th>\n",
       "      <td>White</td>\n",
       "      <td>971136000000000000</td>\n",
       "      <td>1</td>\n",
       "    </tr>\n",
       "    <tr>\n",
       "      <th>1</th>\n",
       "      <td>red</td>\n",
       "      <td>1283990400000000000</td>\n",
       "      <td>2</td>\n",
       "    </tr>\n",
       "    <tr>\n",
       "      <th>2</th>\n",
       "      <td>rose</td>\n",
       "      <td>1315526400000000000</td>\n",
       "      <td>3</td>\n",
       "    </tr>\n",
       "  </tbody>\n",
       "</table>\n",
       "</div>"
      ],
      "text/plain": [
       "    Type              Vintage  WineCode\n",
       "0  White   971136000000000000         1\n",
       "1    red  1283990400000000000         2\n",
       "2   rose  1315526400000000000         3"
      ]
     },
     "execution_count": 49,
     "metadata": {},
     "output_type": "execute_result"
    }
   ],
   "source": [
    "json_demo = pd.read_json('/tmp/lero.json')\n",
    "json_demo"
   ]
  },
  {
   "cell_type": "code",
   "execution_count": 50,
   "metadata": {},
   "outputs": [
    {
     "data": {
      "text/html": [
       "<div>\n",
       "<table border=\"1\" class=\"dataframe\">\n",
       "  <thead>\n",
       "    <tr style=\"text-align: right;\">\n",
       "      <th></th>\n",
       "      <th>WineCode</th>\n",
       "      <th>Type</th>\n",
       "      <th>Vintage</th>\n",
       "    </tr>\n",
       "  </thead>\n",
       "  <tbody>\n",
       "    <tr>\n",
       "      <th>0</th>\n",
       "      <td>1</td>\n",
       "      <td>White</td>\n",
       "      <td>2000-10-10</td>\n",
       "    </tr>\n",
       "    <tr>\n",
       "      <th>1</th>\n",
       "      <td>2</td>\n",
       "      <td>red</td>\n",
       "      <td>2010-09-09</td>\n",
       "    </tr>\n",
       "    <tr>\n",
       "      <th>2</th>\n",
       "      <td>3</td>\n",
       "      <td>rose</td>\n",
       "      <td>2011-09-09</td>\n",
       "    </tr>\n",
       "  </tbody>\n",
       "</table>\n",
       "</div>"
      ],
      "text/plain": [
       "   WineCode   Type    Vintage\n",
       "0         1  White 2000-10-10\n",
       "1         2    red 2010-09-09\n",
       "2         3   rose 2011-09-09"
      ]
     },
     "execution_count": 50,
     "metadata": {},
     "output_type": "execute_result"
    }
   ],
   "source": [
    "new_df"
   ]
  },
  {
   "cell_type": "code",
   "execution_count": 51,
   "metadata": {},
   "outputs": [],
   "source": [
    "json_demo['Vintage'] = pd.to_datetime(json_demo['Vintage'], unit='ns')"
   ]
  },
  {
   "cell_type": "code",
   "execution_count": 52,
   "metadata": {},
   "outputs": [
    {
     "data": {
      "text/html": [
       "<div>\n",
       "<table border=\"1\" class=\"dataframe\">\n",
       "  <thead>\n",
       "    <tr style=\"text-align: right;\">\n",
       "      <th></th>\n",
       "      <th>Type</th>\n",
       "      <th>Vintage</th>\n",
       "      <th>WineCode</th>\n",
       "    </tr>\n",
       "  </thead>\n",
       "  <tbody>\n",
       "    <tr>\n",
       "      <th>0</th>\n",
       "      <td>White</td>\n",
       "      <td>2000-10-10</td>\n",
       "      <td>1</td>\n",
       "    </tr>\n",
       "    <tr>\n",
       "      <th>1</th>\n",
       "      <td>red</td>\n",
       "      <td>2010-09-09</td>\n",
       "      <td>2</td>\n",
       "    </tr>\n",
       "    <tr>\n",
       "      <th>2</th>\n",
       "      <td>rose</td>\n",
       "      <td>2011-09-09</td>\n",
       "      <td>3</td>\n",
       "    </tr>\n",
       "  </tbody>\n",
       "</table>\n",
       "</div>"
      ],
      "text/plain": [
       "    Type    Vintage  WineCode\n",
       "0  White 2000-10-10         1\n",
       "1    red 2010-09-09         2\n",
       "2   rose 2011-09-09         3"
      ]
     },
     "execution_count": 52,
     "metadata": {},
     "output_type": "execute_result"
    }
   ],
   "source": [
    "json_demo"
   ]
  },
  {
   "cell_type": "code",
   "execution_count": 61,
   "metadata": {},
   "outputs": [
    {
     "data": {
      "text/html": [
       "<div>\n",
       "<table border=\"1\" class=\"dataframe\">\n",
       "  <thead>\n",
       "    <tr style=\"text-align: right;\">\n",
       "      <th></th>\n",
       "      <th>WineCode</th>\n",
       "      <th>Type</th>\n",
       "      <th>Vintage</th>\n",
       "    </tr>\n",
       "  </thead>\n",
       "  <tbody>\n",
       "    <tr>\n",
       "      <th>0</th>\n",
       "      <td>1</td>\n",
       "      <td>White</td>\n",
       "      <td>2000-10-10</td>\n",
       "    </tr>\n",
       "    <tr>\n",
       "      <th>1</th>\n",
       "      <td>2</td>\n",
       "      <td>red</td>\n",
       "      <td>2010-09-09</td>\n",
       "    </tr>\n",
       "    <tr>\n",
       "      <th>2</th>\n",
       "      <td>3</td>\n",
       "      <td>rose</td>\n",
       "      <td>2011-09-09</td>\n",
       "    </tr>\n",
       "  </tbody>\n",
       "</table>\n",
       "</div>"
      ],
      "text/plain": [
       "   WineCode   Type    Vintage\n",
       "0         1  White 2000-10-10\n",
       "1         2    red 2010-09-09\n",
       "2         3   rose 2011-09-09"
      ]
     },
     "execution_count": 61,
     "metadata": {},
     "output_type": "execute_result"
    }
   ],
   "source": [
    "new_df"
   ]
  },
  {
   "cell_type": "code",
   "execution_count": 53,
   "metadata": {},
   "outputs": [
    {
     "data": {
      "text/plain": [
       "array([u'Type', u'Vintage', u'WineCode'], dtype=object)"
      ]
     },
     "execution_count": 53,
     "metadata": {},
     "output_type": "execute_result"
    }
   ],
   "source": [
    "json_demo.columns.values"
   ]
  },
  {
   "cell_type": "code",
   "execution_count": 54,
   "metadata": {},
   "outputs": [
    {
     "data": {
      "text/plain": [
       "array([[u'White', Timestamp('2000-10-10 00:00:00'), 1],\n",
       "       [u'red', Timestamp('2010-09-09 00:00:00'), 2],\n",
       "       [u'rose', Timestamp('2011-09-09 00:00:00'), 3]], dtype=object)"
      ]
     },
     "execution_count": 54,
     "metadata": {},
     "output_type": "execute_result"
    }
   ],
   "source": [
    "json_demo.values"
   ]
  },
  {
   "cell_type": "code",
   "execution_count": 64,
   "metadata": {},
   "outputs": [
    {
     "data": {
      "text/html": [
       "<div>\n",
       "<table border=\"1\" class=\"dataframe\">\n",
       "  <thead>\n",
       "    <tr style=\"text-align: right;\">\n",
       "      <th></th>\n",
       "      <th>Type</th>\n",
       "      <th>Vintage</th>\n",
       "      <th>WineCode</th>\n",
       "    </tr>\n",
       "  </thead>\n",
       "  <tbody>\n",
       "    <tr>\n",
       "      <th>0</th>\n",
       "      <td>White</td>\n",
       "      <td>2000-10-10</td>\n",
       "      <td>1</td>\n",
       "    </tr>\n",
       "    <tr>\n",
       "      <th>1</th>\n",
       "      <td>red</td>\n",
       "      <td>2010-09-09</td>\n",
       "      <td>2</td>\n",
       "    </tr>\n",
       "    <tr>\n",
       "      <th>2</th>\n",
       "      <td>rose</td>\n",
       "      <td>2011-09-09</td>\n",
       "      <td>3</td>\n",
       "    </tr>\n",
       "  </tbody>\n",
       "</table>\n",
       "</div>"
      ],
      "text/plain": [
       "    Type    Vintage  WineCode\n",
       "0  White 2000-10-10         1\n",
       "1    red 2010-09-09         2\n",
       "2   rose 2011-09-09         3"
      ]
     },
     "execution_count": 64,
     "metadata": {},
     "output_type": "execute_result"
    }
   ],
   "source": [
    "pd.merge(json_demo, new_df, on=list(json_demo.columns.values), how='outer')"
   ]
  },
  {
   "cell_type": "code",
   "execution_count": 82,
   "metadata": {
    "collapsed": true
   },
   "outputs": [],
   "source": [
    "pd.Series?"
   ]
  },
  {
   "cell_type": "code",
   "execution_count": 65,
   "metadata": {},
   "outputs": [
    {
     "data": {
      "text/plain": [
       "0    10\n",
       "1     9\n",
       "2     8\n",
       "Name: score, dtype: int64"
      ]
     },
     "execution_count": 65,
     "metadata": {},
     "output_type": "execute_result"
    }
   ],
   "source": [
    "score = pd.Series([10, 9, 8], name='score')\n",
    "score"
   ]
  },
  {
   "cell_type": "code",
   "execution_count": 66,
   "metadata": {},
   "outputs": [],
   "source": [
    "out = pd.concat([json_demo, score], axis=1)\n",
    "new_row = pd.DataFrame([[4, 'espumeante',pd.datetime(2000,2,2)]], columns=new_df.columns)"
   ]
  },
  {
   "cell_type": "code",
   "execution_count": 67,
   "metadata": {},
   "outputs": [],
   "source": [
    "append_df = new_df.append(new_row)"
   ]
  },
  {
   "cell_type": "code",
   "execution_count": 68,
   "metadata": {},
   "outputs": [],
   "source": [
    "append_df.to_sql('Wine', engine, if_exists='append', index=None)"
   ]
  }
 ],
 "metadata": {
  "kernelspec": {
   "display_name": "Python 2",
   "language": "python2",
   "name": "python2"
  },
  "language_info": {
   "codemirror_mode": {
    "name": "ipython",
    "version": 2
   },
   "file_extension": ".py",
   "mimetype": "text/x-python",
   "name": "python",
   "nbconvert_exporter": "python",
   "pygments_lexer": "ipython2",
   "version": "2.7.13"
  }
 },
 "nbformat": 4,
 "nbformat_minor": 1
}
